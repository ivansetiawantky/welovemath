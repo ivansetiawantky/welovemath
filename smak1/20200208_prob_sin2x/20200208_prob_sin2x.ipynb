{
 "cells": [
  {
   "cell_type": "markdown",
   "metadata": {},
   "source": [
    "# Problem\n",
    "![problem.jpeg](problem.jpeg)"
   ]
  },
  {
   "cell_type": "markdown",
   "metadata": {},
   "source": [
    "# Solution"
   ]
  },
  {
   "cell_type": "code",
   "execution_count": 4,
   "metadata": {},
   "outputs": [
    {
     "data": {
      "text/latex": [
       "Let $\\rm{Prob}\\{\\mathbf{e}\\}$ be the probability of an event $\\mathbf{e}$ occurs. Thus $P(a)$ is:\n",
       "    \\begin{equation}\n",
       "    P(a) = \\rm{Prob}\\{ \\sin^2(\\pi x) + \\sin^2(\\pi y) \\gt 1\\},\n",
       "    \\label{eq:paorig}\n",
       "    \\end{equation}\n",
       "where $x$ and $y$ be chosen independently at uniformly random from the interval $[0, a]$ and $[0, 1]$, respectively.\n"
      ],
      "text/plain": [
       "<IPython.core.display.Latex object>"
      ]
     },
     "metadata": {},
     "output_type": "display_data"
    }
   ],
   "source": [
    "%%latex\n",
    "Let $\\rm{Prob}\\{\\mathbf{e}\\}$ be the probability of an event $\\mathbf{e}$ occurs. Thus $P(a)$ is:\n",
    "    \\begin{equation}\n",
    "    P(a) = \\rm{Prob}\\{ \\sin^2(\\pi x) + \\sin^2(\\pi y) \\gt 1\\},\n",
    "    \\label{eq:paorig}\n",
    "    \\end{equation}\n",
    "where $x$ and $y$ be chosen independently at uniformly random from the interval $[0, a]$ and $[0, 1]$, respectively.\n"
   ]
  },
  {
   "cell_type": "code",
   "execution_count": 5,
   "metadata": {},
   "outputs": [
    {
     "data": {
      "text/latex": [
       "Because\n",
       "\\begin{align*}\n",
       "\\sin^2(\\pi x) + \\sin^2(\\pi y) \\gt 1\n",
       "& \\Rightarrow \\frac{1-\\cos(2\\pi x)}{2} + \\frac{1-\\cos(2\\pi y)}{2} \\gt 1 &&\\text{(pakai rumus $\\cos(2\\alpha)$)} \\\\\n",
       "& \\Rightarrow 2 - [\\cos(2\\pi x) + \\cos(2\\pi y)] \\gt 2 \\\\\n",
       "& \\Rightarrow - [\\cos(2\\pi x) + \\cos(2\\pi y)] \\gt 0 \\\\\n",
       "& \\Rightarrow \\cos(2\\pi x) + \\cos(2\\pi y) \\lt 0 \\\\\n",
       "& \\Rightarrow 2\\cos(\\pi(x+y)) \\times \\cos(\\pi(x-y)) \\lt 0 && \\text{(pakai rumus $\\cos\\alpha + \\cos\\beta$)}\\\\\n",
       "& \\Rightarrow \\cos(\\pi(x+y)) \\times \\cos(\\pi(x-y)) \\lt 0,\n",
       "\\end{align*}\n"
      ],
      "text/plain": [
       "<IPython.core.display.Latex object>"
      ]
     },
     "metadata": {},
     "output_type": "display_data"
    }
   ],
   "source": [
    "%%latex\n",
    "Because\n",
    "\\begin{align*}\n",
    "\\sin^2(\\pi x) + \\sin^2(\\pi y) \\gt 1\n",
    "& \\Rightarrow \\frac{1-\\cos(2\\pi x)}{2} + \\frac{1-\\cos(2\\pi y)}{2} \\gt 1 &&\\text{(pakai rumus $\\cos(2\\alpha)$)} \\\\\n",
    "& \\Rightarrow 2 - [\\cos(2\\pi x) + \\cos(2\\pi y)] \\gt 2 \\\\\n",
    "& \\Rightarrow - [\\cos(2\\pi x) + \\cos(2\\pi y)] \\gt 0 \\\\\n",
    "& \\Rightarrow \\cos(2\\pi x) + \\cos(2\\pi y) \\lt 0 \\\\\n",
    "& \\Rightarrow 2\\cos(\\pi(x+y)) \\times \\cos(\\pi(x-y)) \\lt 0 && \\text{(pakai rumus $\\cos\\alpha + \\cos\\beta$)}\\\\\n",
    "& \\Rightarrow \\cos(\\pi(x+y)) \\times \\cos(\\pi(x-y)) \\lt 0,\n",
    "\\end{align*}"
   ]
  },
  {
   "cell_type": "code",
   "execution_count": 6,
   "metadata": {},
   "outputs": [
    {
     "data": {
      "text/latex": [
       "then, the above event probabilty $P(a)$ in equation $\\eqref{eq:paorig}$ is identical to:\n",
       "    \\begin{equation}\n",
       "    P(a) = \\rm{Prob}\\{ \\cos(\\pi(x+y)) \\times \\cos(\\pi(x-y)) \\lt 0 \\}.\n",
       "    \\label{eq:pasoln}\n",
       "    \\end{equation}\n"
      ],
      "text/plain": [
       "<IPython.core.display.Latex object>"
      ]
     },
     "metadata": {},
     "output_type": "display_data"
    }
   ],
   "source": [
    "%%latex\n",
    "then, the above event probabilty $P(a)$ in equation $\\eqref{eq:paorig}$ is identical to:\n",
    "    \\begin{equation}\n",
    "    P(a) = \\rm{Prob}\\{ \\cos(\\pi(x+y)) \\times \\cos(\\pi(x-y)) \\lt 0 \\}.\n",
    "    \\label{eq:pasoln}\n",
    "    \\end{equation}\n"
   ]
  },
  {
   "cell_type": "code",
   "execution_count": 7,
   "metadata": {},
   "outputs": [
    {
     "data": {
      "text/latex": [
       "As the first step, we need to find the location of points $(x, y)$ inside the given area, \n",
       "that satisfy $\\cos(\\pi(x+y)) \\times \\cos(\\pi(x-y)) \\lt 0$, that is:\n",
       "    \\begin{equation}\n",
       "    \\{ (x,y) \\mid (\\cos(\\pi(x+y)) \\times \\cos(\\pi(x-y)) \\lt 0) \n",
       "      \\cap (0 \\leq x \\leq a) \\cap (0 \\leq y \\leq 1) \\}.\n",
       "    \\label{eq:soln-area}\n",
       "    \\end{equation}\n"
      ],
      "text/plain": [
       "<IPython.core.display.Latex object>"
      ]
     },
     "metadata": {},
     "output_type": "display_data"
    }
   ],
   "source": [
    "%%latex\n",
    "As the first step, we need to find the location of points $(x, y)$ inside the given area, \n",
    "that satisfy $\\cos(\\pi(x+y)) \\times \\cos(\\pi(x-y)) \\lt 0$, that is:\n",
    "    \\begin{equation}\n",
    "    \\{ (x,y) \\mid (\\cos(\\pi(x+y)) \\times \\cos(\\pi(x-y)) \\lt 0) \n",
    "      \\cap (0 \\leq x \\leq a) \\cap (0 \\leq y \\leq 1) \\}.\n",
    "    \\label{eq:soln-area}\n",
    "    \\end{equation}"
   ]
  },
  {
   "cell_type": "code",
   "execution_count": 8,
   "metadata": {},
   "outputs": [
    {
     "data": {
      "text/latex": [
       "There are 2 cases that satisfy {$\\cos(\\pi(x+y)) \\times \\cos(\\pi(x-y)) \\lt 0$}, \n",
       "that is, {$\\cos(\\pi(x+y)) \\gt 0$ AND $\\cos(\\pi(x-y)) \\lt 0$} as the first case, \n",
       "OR {$\\cos(\\pi(x+y)) \\lt 0$ AND $\\cos(\\pi(x-y)) \\gt 0$} as the second case.\n",
       "So, equation $\\eqref{eq:soln-area}$ can be found as the union of the above 2 cases, \n",
       "that is (all inside $((0 \\leq x \\leq a) \\cap (0 \\leq y \\leq 1))$):\n",
       "    \\begin{align}\n",
       "    \\{ (x,y) \\mid (\\cos(\\pi(x+y)) \\times \\cos(\\pi(x-y)) \\lt 0) \\} = \\\\\n",
       "    \\{ (x,y) \\mid (\\cos(\\pi(x+y)) \\gt 0) \\cap (\\cos(\\pi(x-y)) \\lt 0) \\} \\label{eq:soln-area-case1}  && \\text{(case 1)}\\\\ \n",
       "    \\cup\n",
       "    \\{ (x,y) \\mid (\\cos(\\pi(x+y)) \\lt 0) \\cap (\\cos(\\pi(x-y)) \\gt 0) \\} && \\text{(case 2)}.\n",
       "    \\label{eq:soln-area-case2}\n",
       "    \\end{align}\n"
      ],
      "text/plain": [
       "<IPython.core.display.Latex object>"
      ]
     },
     "metadata": {},
     "output_type": "display_data"
    }
   ],
   "source": [
    "%%latex\n",
    "There are 2 cases that satisfy {$\\cos(\\pi(x+y)) \\times \\cos(\\pi(x-y)) \\lt 0$}, \n",
    "that is, {$\\cos(\\pi(x+y)) \\gt 0$ AND $\\cos(\\pi(x-y)) \\lt 0$} as the first case, \n",
    "OR {$\\cos(\\pi(x+y)) \\lt 0$ AND $\\cos(\\pi(x-y)) \\gt 0$} as the second case.\n",
    "So, equation $\\eqref{eq:soln-area}$ can be found as the union of the above 2 cases, \n",
    "that is (all inside $((0 \\leq x \\leq a) \\cap (0 \\leq y \\leq 1))$):\n",
    "    \\begin{align}\n",
    "    \\{ (x,y) \\mid (\\cos(\\pi(x+y)) \\times \\cos(\\pi(x-y)) \\lt 0) \\} = \\\\\n",
    "    \\{ (x,y) \\mid (\\cos(\\pi(x+y)) \\gt 0) \\cap (\\cos(\\pi(x-y)) \\lt 0) \\} \\label{eq:soln-area-case1}  && \\text{(case 1)}\\\\ \n",
    "    \\cup\n",
    "    \\{ (x,y) \\mid (\\cos(\\pi(x+y)) \\lt 0) \\cap (\\cos(\\pi(x-y)) \\gt 0) \\} && \\text{(case 2)}.\n",
    "    \\label{eq:soln-area-case2}\n",
    "    \\end{align}"
   ]
  },
  {
   "cell_type": "code",
   "execution_count": 9,
   "metadata": {},
   "outputs": [
    {
     "data": {
      "text/latex": [
       "Keeping in mind that $x \\in [0, a]$ (with $0 \\le a \\le 1$) and $y \\in [0, 1]$, below we find the regions of $(x, y)$ that satisfy case 1 and case 2.\n"
      ],
      "text/plain": [
       "<IPython.core.display.Latex object>"
      ]
     },
     "metadata": {},
     "output_type": "display_data"
    }
   ],
   "source": [
    "%%latex\n",
    "Keeping in mind that $x \\in [0, a]$ (with $0 \\le a \\le 1$) and $y \\in [0, 1]$, below we find the regions of $(x, y)$ that satisfy case 1 and case 2."
   ]
  },
  {
   "cell_type": "markdown",
   "metadata": {},
   "source": [
    "## Case 1: $\\{ (x,y) \\mid (\\cos(\\pi(x+y)) \\gt 0) \\cap (\\cos(\\pi(x-y)) \\lt 0) \\}$"
   ]
  },
  {
   "cell_type": "code",
   "execution_count": 10,
   "metadata": {},
   "outputs": [
    {
     "data": {
      "image/png": "[encoded data removed]",
      "text/plain": [
       "<Figure size 432x288 with 2 Axes>"
      ]
     },
     "metadata": {
      "needs_background": "light"
     },
     "output_type": "display_data"
    }
   ],
   "source": [
    "%matplotlib inline \n",
    "import numpy as np\n",
    "import matplotlib.pyplot as plt\n",
    "import matplotlib\n",
    "\n",
    "matplotlib.rcParams['mathtext.fontset'] = 'stix'\n",
    "matplotlib.rcParams['font.family'] = 'STIXGeneral'\n",
    "\n",
    "plt.subplot(1, 2, 1)\n",
    "xpy=np.arange(0, 0.5, 0.01)\n",
    "cosxpy=np.cos(np.pi*xpy)\n",
    "plt.plot(xpy,cosxpy, \"r-\")\n",
    "xpy=np.arange(0.5, 1.5, 0.01)\n",
    "cosxpy=np.cos(np.pi*xpy)\n",
    "plt.plot(xpy,cosxpy, \"b--\")\n",
    "xpy=np.arange(1.5, 2.0, 0.01)\n",
    "cosxpy=np.cos(np.pi*xpy)\n",
    "plt.plot(xpy,cosxpy, \"r-\")\n",
    "plt.xlabel(\"$(x+y)$\")\n",
    "plt.ylabel(\"$\\cos(\\pi(x+y))$\")\n",
    "plt.axis('scaled')\n",
    "plt.grid(True)\n",
    "\n",
    "plt.subplot(1, 2, 2)\n",
    "# plot the feasible region\n",
    "d = np.linspace(-2,2,1000)\n",
    "x,y = np.meshgrid(d,d)\n",
    "plt.imshow( ( ((y>=0) & (y<=1) & (x>=0) & (x<=1) & (y<=0.5-x) & (y>= -x)) |\n",
    "            ((y>=0) & (y<=1) & (x>=0) & (x<=1) & (y<=2-x) & (y>= 1.5-x)) ) .astype(int) , \n",
    "                extent=(x.min(),x.max(),y.min(),y.max()),origin=\"lower\", cmap=\"Greys\", alpha = 0.3);\n",
    "\n",
    "# plot the lines defining the constraints\n",
    "x = np.linspace(-2, 2, 2000)\n",
    "y1 = 0.5 - x\n",
    "y2 = 1.5 - x\n",
    "\n",
    "# Make plot\n",
    "plt.plot(x, y1, label=r'$x+y \\leq 0.5$')\n",
    "plt.plot(x, y2, label=r'$1.5 \\leq x+y$')\n",
    "plt.axis(\"scaled\")\n",
    "# plt.grid(True)\n",
    "plt.xlim(0,1)\n",
    "plt.ylim(0,1)\n",
    "plt.legend(bbox_to_anchor=(1.05, 1), loc=2, borderaxespad=0.)\n",
    "plt.xlabel(r'$x$')\n",
    "plt.ylabel(r'$y$')\n",
    "\n",
    "#plt.tight_layout()\n",
    "plt.tight_layout(rect=[0, 0.03, 2, 0.95])\n",
    "plt.show()"
   ]
  },
  {
   "cell_type": "code",
   "execution_count": 11,
   "metadata": {},
   "outputs": [
    {
     "data": {
      "text/latex": [
       "In case 1, the former term of equation $\\eqref{eq:soln-area-case1}$, that is, $\\cos(\\pi(x+y))$,\n",
       "will satisfy $(\\cos(\\pi(x+y)) \\gt 0$ at the above-left red-solid-line cosine plot. So, the region of $(x, y)$ is:\n",
       "\\begin{equation}\n",
       "(0 \\le (x+y) \\le 0.5) \\cup (1.5 \\le (x+y) \\le 2.0), \n",
       "\\end{equation}\n",
       "which is shown in the above-right figure.\n",
       "               \n",
       "               \n",
       "\\indent\\makebox[\\linewidth]{\\rule{\\textwidth}{0.4pt}}\n"
      ],
      "text/plain": [
       "<IPython.core.display.Latex object>"
      ]
     },
     "metadata": {},
     "output_type": "display_data"
    }
   ],
   "source": [
    "%%latex\n",
    "In case 1, the former term of equation $\\eqref{eq:soln-area-case1}$, that is, $\\cos(\\pi(x+y))$,\n",
    "will satisfy $(\\cos(\\pi(x+y)) \\gt 0$ at the above-left red-solid-line cosine plot. So, the region of $(x, y)$ is:\n",
    "\\begin{equation}\n",
    "(0 \\le (x+y) \\le 0.5) \\cup (1.5 \\le (x+y) \\le 2.0), \n",
    "\\end{equation}\n",
    "which is shown in the above-right figure.\n",
    "               \n",
    "               \n",
    "\\indent\\makebox[\\linewidth]{\\rule{\\textwidth}{0.4pt}}"
   ]
  },
  {
   "cell_type": "code",
   "execution_count": 12,
   "metadata": {},
   "outputs": [
    {
     "data": {
      "image/png": "[encoded data removed]",
      "text/plain": [
       "<Figure size 432x288 with 2 Axes>"
      ]
     },
     "metadata": {
      "needs_background": "light"
     },
     "output_type": "display_data"
    }
   ],
   "source": [
    "%matplotlib inline \n",
    "import numpy as np\n",
    "import matplotlib.pyplot as plt\n",
    "import matplotlib\n",
    "\n",
    "matplotlib.rcParams['mathtext.fontset'] = 'stix'\n",
    "matplotlib.rcParams['font.family'] = 'STIXGeneral'\n",
    "\n",
    "plt.subplot(1, 2, 1)\n",
    "xmy=np.arange(-1, -0.5, 0.01)\n",
    "cosxmy=np.cos(np.pi*xmy)\n",
    "plt.plot(xmy,cosxmy, \"r-\")\n",
    "xmy=np.arange(-0.5, 0.5, 0.01)\n",
    "cosxmy=np.cos(np.pi*xmy)\n",
    "plt.plot(xmy,cosxmy, \"b--\")\n",
    "xmy=np.arange(0.5, 1.0, 0.01)\n",
    "cosxmy=np.cos(np.pi*xmy)\n",
    "plt.plot(xmy,cosxmy, \"r-\")\n",
    "plt.xlabel(\"$(x-y)$\")\n",
    "plt.ylabel(\"$\\cos(\\pi(x-y))$\")\n",
    "plt.axis('scaled')\n",
    "plt.grid(True)\n",
    "\n",
    "plt.subplot(1, 2, 2)\n",
    "# plot the feasible region\n",
    "d = np.linspace(-2,2,1000)\n",
    "x,y = np.meshgrid(d,d)\n",
    "plt.imshow( ( ((y>=0) & (y<=1) & (x>=0) & (x<=1) & (y<=x+1) & (y>= x+0.5)) |\n",
    "            ((y>=0) & (y<=1) & (x>=0) & (x<=1) & (y<=x-0.5) & (y>= x-1.0)) ) .astype(int) , \n",
    "                extent=(x.min(),x.max(),y.min(),y.max()),origin=\"lower\", cmap=\"Greys\", alpha = 0.3);\n",
    "\n",
    "# plot the lines defining the constraints\n",
    "x = np.linspace(-2, 2, 2000)\n",
    "y1 = x + 0.5\n",
    "y2 = x - 0.5\n",
    "\n",
    "# Make plot\n",
    "plt.plot(x, y1, label=r'$x-y \\leq -0.5$')\n",
    "plt.plot(x, y2, label=r'$0.5 \\leq x-y$')\n",
    "plt.axis(\"scaled\")\n",
    "# plt.grid(True)\n",
    "plt.xlim(0,1)\n",
    "plt.ylim(0,1)\n",
    "plt.legend(bbox_to_anchor=(1.05, 1), loc=2, borderaxespad=0.)\n",
    "plt.xlabel(r'$x$')\n",
    "plt.ylabel(r'$y$')\n",
    "\n",
    "# plt.tight_layout()\n",
    "plt.tight_layout(rect=[0, 0.03, 2, 0.95])\n",
    "plt.show()"
   ]
  },
  {
   "cell_type": "code",
   "execution_count": 13,
   "metadata": {},
   "outputs": [
    {
     "data": {
      "text/latex": [
       "Similarly in case 1, the later term of equation $\\eqref{eq:soln-area-case1}$, that is, $\\cos(\\pi(x-y))$,\n",
       "will satisfy $(\\cos(\\pi(x-y)) \\lt 0$ at the above-left red-solid-line cosine plot. So, the region of $(x, y)$ is:\n",
       "\\begin{equation}\n",
       "(-1 \\le (x-y) \\le -0.5) \\cup (0.5 \\le (x-y) \\le 1), \n",
       "\\end{equation}\n",
       "which is shown in the above-right figure.\n",
       "\n",
       "               \n",
       "\\indent\\makebox[\\linewidth]{\\rule{\\textwidth}{0.4pt}}\n"
      ],
      "text/plain": [
       "<IPython.core.display.Latex object>"
      ]
     },
     "metadata": {},
     "output_type": "display_data"
    }
   ],
   "source": [
    "%%latex\n",
    "Similarly in case 1, the later term of equation $\\eqref{eq:soln-area-case1}$, that is, $\\cos(\\pi(x-y))$,\n",
    "will satisfy $(\\cos(\\pi(x-y)) \\lt 0$ at the above-left red-solid-line cosine plot. So, the region of $(x, y)$ is:\n",
    "\\begin{equation}\n",
    "(-1 \\le (x-y) \\le -0.5) \\cup (0.5 \\le (x-y) \\le 1), \n",
    "\\end{equation}\n",
    "which is shown in the above-right figure.\n",
    "\n",
    "               \n",
    "\\indent\\makebox[\\linewidth]{\\rule{\\textwidth}{0.4pt}}"
   ]
  },
  {
   "cell_type": "code",
   "execution_count": 14,
   "metadata": {},
   "outputs": [
    {
     "data": {
      "text/latex": [
       "We see from the figures that the region\n",
       "\\begin{equation*}\n",
       "(0 \\le (x+y) \\le 0.5) \\cup (1.5 \\le (x+y) \\le 2.0), \n",
       "\\end{equation*}\n",
       "and the region\n",
       "\\begin{equation*}\n",
       "(-1 \\le (x-y) \\le -0.5) \\cup (0.5 \\le (x-y) \\le 1),\n",
       "\\end{equation*}\n",
       "do NOT overlap, so the region that satisfy case 1 does NOT exist.\n"
      ],
      "text/plain": [
       "<IPython.core.display.Latex object>"
      ]
     },
     "metadata": {},
     "output_type": "display_data"
    }
   ],
   "source": [
    "%%latex\n",
    "We see from the figures that the region\n",
    "\\begin{equation*}\n",
    "(0 \\le (x+y) \\le 0.5) \\cup (1.5 \\le (x+y) \\le 2.0), \n",
    "\\end{equation*}\n",
    "and the region\n",
    "\\begin{equation*}\n",
    "(-1 \\le (x-y) \\le -0.5) \\cup (0.5 \\le (x-y) \\le 1),\n",
    "\\end{equation*}\n",
    "do NOT overlap, so the region that satisfy case 1 does NOT exist."
   ]
  },
  {
   "cell_type": "markdown",
   "metadata": {},
   "source": [
    "## Case 2: $\\{ (x,y) \\mid (\\cos(\\pi(x+y)) \\lt 0) \\cap (\\cos(\\pi(x-y)) \\gt 0) \\}$"
   ]
  },
  {
   "cell_type": "code",
   "execution_count": 15,
   "metadata": {},
   "outputs": [
    {
     "data": {
      "image/png": "[encoded data removed]",
      "text/plain": [
       "<Figure size 432x288 with 2 Axes>"
      ]
     },
     "metadata": {
      "needs_background": "light"
     },
     "output_type": "display_data"
    }
   ],
   "source": [
    "%matplotlib inline \n",
    "import numpy as np\n",
    "import matplotlib.pyplot as plt\n",
    "import matplotlib\n",
    "\n",
    "matplotlib.rcParams['mathtext.fontset'] = 'stix'\n",
    "matplotlib.rcParams['font.family'] = 'STIXGeneral'\n",
    "\n",
    "plt.subplot(1, 2, 1)\n",
    "xpy=np.arange(0, 0.5, 0.01)\n",
    "cosxpy=np.cos(np.pi*xpy)\n",
    "plt.plot(xpy,cosxpy, \"b--\")\n",
    "xpy=np.arange(0.5, 1.5, 0.01)\n",
    "cosxpy=np.cos(np.pi*xpy)\n",
    "plt.plot(xpy,cosxpy, \"r-\")\n",
    "xpy=np.arange(1.5, 2.0, 0.01)\n",
    "cosxpy=np.cos(np.pi*xpy)\n",
    "plt.plot(xpy,cosxpy, \"b--\")\n",
    "plt.xlabel(\"$(x+y)$\")\n",
    "plt.ylabel(\"$\\cos(\\pi(x+y))$\")\n",
    "plt.axis('scaled')\n",
    "plt.grid(True)\n",
    "\n",
    "plt.subplot(1, 2, 2)\n",
    "# plot the feasible region\n",
    "d = np.linspace(-2,2,1000)\n",
    "x,y = np.meshgrid(d,d)\n",
    "plt.imshow( ( (y>=0) & (y<=1) & (x>=0) & (x<=1) & (y<=1.5-x) & (y>= 0.5-x) ) .astype(int) , \n",
    "                extent=(x.min(),x.max(),y.min(),y.max()),origin=\"lower\", cmap=\"Greys\", alpha = 0.3);\n",
    "\n",
    "# plot the lines defining the constraints\n",
    "x = np.linspace(-2, 2, 2000)\n",
    "y1 = 1.5 - x\n",
    "y2 = 0.5 - x\n",
    "\n",
    "# Make plot\n",
    "plt.plot(x, y1, label=r'$x+y \\leq 1.5$')\n",
    "plt.plot(x, y2, label=r'$0.5 \\leq x+y$')\n",
    "plt.axis(\"scaled\")\n",
    "# plt.grid(True)\n",
    "plt.xlim(0,1)\n",
    "plt.ylim(0,1)\n",
    "plt.legend(bbox_to_anchor=(1.05, 1), loc=2, borderaxespad=0.)\n",
    "plt.xlabel(r'$x$')\n",
    "plt.ylabel(r'$y$')\n",
    "\n",
    "#plt.tight_layout()\n",
    "plt.tight_layout(rect=[0, 0.03, 2, 0.95])\n",
    "plt.show()"
   ]
  },
  {
   "cell_type": "code",
   "execution_count": 16,
   "metadata": {},
   "outputs": [
    {
     "data": {
      "text/latex": [
       "In case 2, the former term of equation $\\eqref{eq:soln-area-case2}$, that is, $\\cos(\\pi(x+y))$,\n",
       "will satisfy $(\\cos(\\pi(x+y)) \\lt 0$ at the above-left red-solid-line cosine plot. So, the region of $(x, y)$ is:\n",
       "\\begin{equation}\n",
       "(0.5 \\le (x+y) \\le 1.5), \n",
       "\\end{equation}\n",
       "which is shown in the above-right figure.\n",
       "\n",
       "\\indent\\makebox[\\linewidth]{\\rule{\\textwidth}{0.4pt}}\n"
      ],
      "text/plain": [
       "<IPython.core.display.Latex object>"
      ]
     },
     "metadata": {},
     "output_type": "display_data"
    }
   ],
   "source": [
    "%%latex\n",
    "In case 2, the former term of equation $\\eqref{eq:soln-area-case2}$, that is, $\\cos(\\pi(x+y))$,\n",
    "will satisfy $(\\cos(\\pi(x+y)) \\lt 0$ at the above-left red-solid-line cosine plot. So, the region of $(x, y)$ is:\n",
    "\\begin{equation}\n",
    "(0.5 \\le (x+y) \\le 1.5), \n",
    "\\end{equation}\n",
    "which is shown in the above-right figure.\n",
    "\n",
    "\\indent\\makebox[\\linewidth]{\\rule{\\textwidth}{0.4pt}}"
   ]
  },
  {
   "cell_type": "code",
   "execution_count": 17,
   "metadata": {},
   "outputs": [
    {
     "data": {
      "image/png": "[encoded data removed]",
      "text/plain": [
       "<Figure size 432x288 with 2 Axes>"
      ]
     },
     "metadata": {
      "needs_background": "light"
     },
     "output_type": "display_data"
    }
   ],
   "source": [
    "%matplotlib inline \n",
    "import numpy as np\n",
    "import matplotlib.pyplot as plt\n",
    "import matplotlib\n",
    "\n",
    "matplotlib.rcParams['mathtext.fontset'] = 'stix'\n",
    "matplotlib.rcParams['font.family'] = 'STIXGeneral'\n",
    "\n",
    "plt.subplot(1, 2, 1)\n",
    "xmy=np.arange(-1, -0.5, 0.01)\n",
    "cosxmy=np.cos(np.pi*xmy)\n",
    "plt.plot(xmy,cosxmy, \"b--\")\n",
    "xmy=np.arange(-0.5, 0.5, 0.01)\n",
    "cosxmy=np.cos(np.pi*xmy)\n",
    "plt.plot(xmy,cosxmy, \"r-\")\n",
    "xmy=np.arange(0.5, 1.0, 0.01)\n",
    "cosxmy=np.cos(np.pi*xmy)\n",
    "plt.plot(xmy,cosxmy, \"b--\")\n",
    "plt.xlabel(\"$(x-y)$\")\n",
    "plt.ylabel(\"$\\cos(\\pi(x-y))$\")\n",
    "plt.axis('scaled')\n",
    "plt.grid(True)\n",
    "\n",
    "plt.subplot(1, 2, 2)\n",
    "# plot the feasible region\n",
    "d = np.linspace(-2,2,1000)\n",
    "x,y = np.meshgrid(d,d)\n",
    "plt.imshow( ( (y>=0) & (y<=1) & (x>=0) & (x<=1) & (y<=x+0.5) & (y>= x-0.5) ) .astype(int) , \n",
    "                extent=(x.min(),x.max(),y.min(),y.max()),origin=\"lower\", cmap=\"Greys\", alpha = 0.3);\n",
    "\n",
    "# plot the lines defining the constraints\n",
    "x = np.linspace(-2, 2, 2000)\n",
    "y1 = x + 0.5\n",
    "y2 = x - 0.5\n",
    "\n",
    "# Make plot\n",
    "plt.plot(x, y1, label=r'$-0.5 \\leq x-y $')\n",
    "plt.plot(x, y2, label=r'$x-y \\leq 0.5$')\n",
    "plt.axis(\"scaled\")\n",
    "# plt.grid(True)\n",
    "plt.xlim(0,1)\n",
    "plt.ylim(0,1)\n",
    "plt.legend(bbox_to_anchor=(1.05, 1), loc=2, borderaxespad=0.)\n",
    "plt.xlabel(r'$x$')\n",
    "plt.ylabel(r'$y$')\n",
    "\n",
    "#plt.tight_layout()\n",
    "plt.tight_layout(rect=[0, 0.03, 2, 0.95])\n",
    "plt.show()"
   ]
  },
  {
   "cell_type": "code",
   "execution_count": 18,
   "metadata": {},
   "outputs": [
    {
     "data": {
      "text/latex": [
       "Similarly in case 2, the later term of equation $\\eqref{eq:soln-area-case2}$, that is, $\\cos(\\pi(x-y))$,\n",
       "will satisfy $(\\cos(\\pi(x-y)) \\gt 0$ at the above-left red-solid-line cosine plot. So, the region of $(x, y)$ is:\n",
       "\\begin{equation}\n",
       "(-0.5 \\le (x-y) \\le 0.5),\n",
       "\\end{equation}\n",
       "which is shown in the above-right figure.\n",
       "\n",
       "\\indent\\makebox[\\linewidth]{\\rule{\\textwidth}{0.4pt}}\n"
      ],
      "text/plain": [
       "<IPython.core.display.Latex object>"
      ]
     },
     "metadata": {},
     "output_type": "display_data"
    }
   ],
   "source": [
    "%%latex\n",
    "Similarly in case 2, the later term of equation $\\eqref{eq:soln-area-case2}$, that is, $\\cos(\\pi(x-y))$,\n",
    "will satisfy $(\\cos(\\pi(x-y)) \\gt 0$ at the above-left red-solid-line cosine plot. So, the region of $(x, y)$ is:\n",
    "\\begin{equation}\n",
    "(-0.5 \\le (x-y) \\le 0.5),\n",
    "\\end{equation}\n",
    "which is shown in the above-right figure.\n",
    "\n",
    "\\indent\\makebox[\\linewidth]{\\rule{\\textwidth}{0.4pt}}"
   ]
  },
  {
   "cell_type": "code",
   "execution_count": 19,
   "metadata": {},
   "outputs": [
    {
     "data": {
      "text/latex": [
       "We see from the figures that the region\n",
       "\\begin{equation*}\n",
       "(0.5 \\le (x+y) \\le 1.5),\n",
       "\\end{equation*}\n",
       "and the region\n",
       "\\begin{equation*}\n",
       "(-0.5 \\le (x-y) \\le 0.5),\n",
       "\\end{equation*}\n",
       "do overlap, so the region that satisfy case 2 is:\n"
      ],
      "text/plain": [
       "<IPython.core.display.Latex object>"
      ]
     },
     "metadata": {},
     "output_type": "display_data"
    }
   ],
   "source": [
    "%%latex\n",
    "We see from the figures that the region\n",
    "\\begin{equation*}\n",
    "(0.5 \\le (x+y) \\le 1.5),\n",
    "\\end{equation*}\n",
    "and the region\n",
    "\\begin{equation*}\n",
    "(-0.5 \\le (x-y) \\le 0.5),\n",
    "\\end{equation*}\n",
    "do overlap, so the region that satisfy case 2 is:"
   ]
  },
  {
   "cell_type": "code",
   "execution_count": 20,
   "metadata": {},
   "outputs": [
    {
     "data": {
      "image/png": "[encoded data removed]",
      "text/plain": [
       "<Figure size 432x288 with 1 Axes>"
      ]
     },
     "metadata": {
      "needs_background": "light"
     },
     "output_type": "display_data"
    }
   ],
   "source": [
    "%matplotlib inline \n",
    "import numpy as np\n",
    "import matplotlib.pyplot as plt\n",
    "import matplotlib\n",
    "\n",
    "matplotlib.rcParams['mathtext.fontset'] = 'stix'\n",
    "matplotlib.rcParams['font.family'] = 'STIXGeneral'\n",
    "\n",
    "# plot the feasible region\n",
    "d = np.linspace(-2,2,1000)\n",
    "x,y = np.meshgrid(d,d)\n",
    "plt.imshow( ( (y>=0) & (y<=1) & (x>=0) & (x<=1) & (y<=1.5-x) & (y>= 0.5-x) &\n",
    "                 (y>=0) & (y<=1) & (x>=0) & (x<=1) & (y<=x+0.5) & (y>= x-0.5)  ) .astype(int) , \n",
    "                extent=(x.min(),x.max(),y.min(),y.max()),origin=\"lower\", cmap=\"Greys\", alpha = 0.3);\n",
    "\n",
    "# plot the lines defining the constraints\n",
    "x = np.linspace(-2, 2, 2000)\n",
    "y1 = 1.5 - x\n",
    "y2 = 0.5 - x\n",
    "y3 = x + 0.5\n",
    "y4 = x - 0.5\n",
    "\n",
    "# Make plot\n",
    "plt.plot(x, y1, label=r'$x+y \\leq 1.5$')\n",
    "plt.plot(x, y2, label=r'$0.5 \\leq x+y$')\n",
    "plt.plot(x, y3, label=r'$-0.5 \\leq x-y $')\n",
    "plt.plot(x, y4, label=r'$x-y \\leq 0.5$')\n",
    "\n",
    "plt.axis(\"scaled\")\n",
    "# plt.grid(True)\n",
    "plt.xlim(0,1)\n",
    "plt.ylim(0,1)\n",
    "plt.legend(bbox_to_anchor=(1.05, 1), loc=2, borderaxespad=0.)\n",
    "plt.xlabel(r'$x$')\n",
    "plt.ylabel(r'$y$')\n",
    "\n",
    "plt.show()"
   ]
  },
  {
   "cell_type": "code",
   "execution_count": 21,
   "metadata": {},
   "outputs": [
    {
     "data": {
      "text/latex": [
       "Thus, the above region is the region of $(x, y)$ which satisfy \\{$\\cos(\\pi(x+y)) \\times \\cos(\\pi(x-y)) \\lt 0$\\}:\n",
       "    \\begin{equation}\n",
       "    \\{ (x,y) \\mid (\\cos(\\pi(x+y)) \\times \\cos(\\pi(x-y)) \\lt 0) \n",
       "      \\cap (0 \\leq x \\leq 1) \\cap (0 \\leq y \\leq 1) \\},\n",
       "    \\end{equation}\n",
       "which is also the region of $(x, y)$ which satisfy \\{$\\sin^2(\\pi x) + \\sin^2(\\pi y) \\gt 1$\\}:\n",
       "    \\begin{equation}\n",
       "    \\{ (x,y) \\mid (\\sin^2(\\pi x) + \\sin^2(\\pi y) \\gt 1) \n",
       "      \\cap (0 \\leq x \\leq 1) \\cap (0 \\leq y \\leq 1) \\}.\n",
       "    \\end{equation}\n"
      ],
      "text/plain": [
       "<IPython.core.display.Latex object>"
      ]
     },
     "metadata": {},
     "output_type": "display_data"
    }
   ],
   "source": [
    "%%latex\n",
    "Thus, the above region is the region of $(x, y)$ which satisfy \\{$\\cos(\\pi(x+y)) \\times \\cos(\\pi(x-y)) \\lt 0$\\}:\n",
    "    \\begin{equation}\n",
    "    \\{ (x,y) \\mid (\\cos(\\pi(x+y)) \\times \\cos(\\pi(x-y)) \\lt 0) \n",
    "      \\cap (0 \\leq x \\leq 1) \\cap (0 \\leq y \\leq 1) \\},\n",
    "    \\end{equation}\n",
    "which is also the region of $(x, y)$ which satisfy \\{$\\sin^2(\\pi x) + \\sin^2(\\pi y) \\gt 1$\\}:\n",
    "    \\begin{equation}\n",
    "    \\{ (x,y) \\mid (\\sin^2(\\pi x) + \\sin^2(\\pi y) \\gt 1) \n",
    "      \\cap (0 \\leq x \\leq 1) \\cap (0 \\leq y \\leq 1) \\}.\n",
    "    \\end{equation}"
   ]
  },
  {
   "cell_type": "markdown",
   "metadata": {},
   "source": [
    "## Formulation of function $P(a)$"
   ]
  },
  {
   "cell_type": "code",
   "execution_count": 22,
   "metadata": {},
   "outputs": [
    {
     "data": {
      "text/latex": [
       "$P(a)$ is the probability of point $(x,y)$ lies inside the above shown region with additional constraint $\\{x \\in [0,a]\\}$,\n",
       "when $x$ and $y$ is chosen uniform-randomly independently from region $\\{(x,y) \\mid x \\in [0,a], y \\in [0,1]\\}$.\n",
       "This probability is the ratio of \"the area of the above shown region with additional constraint $\\{x \\in [0,a]\\}$\" to\n",
       "\"the area of the region $\\{(x,y) \\mid x \\in [0,a], y \\in [0,1]\\}$.\" Hence,\n",
       "\\begin{align*}\n",
       "P(a) &= \\frac{\\text{Area of the above region } \\cap \\{0 \\le x \\le a\\}}\n",
       "              {\\text{Area of the region }\\{(x,y) \\mid x \\in [0,a], y \\in [0,1]\\}} \\\\\n",
       "&= \\frac{\\text{Area of the above region } \\cap \\{0 \\le x \\le a\\}}\n",
       "    {a}.\n",
       "\\end{align*}\n"
      ],
      "text/plain": [
       "<IPython.core.display.Latex object>"
      ]
     },
     "metadata": {},
     "output_type": "display_data"
    }
   ],
   "source": [
    "%%latex\n",
    "$P(a)$ is the probability of point $(x,y)$ lies inside the above shown region with additional constraint $\\{x \\in [0,a]\\}$,\n",
    "when $x$ and $y$ is chosen uniform-randomly independently from region $\\{(x,y) \\mid x \\in [0,a], y \\in [0,1]\\}$.\n",
    "This probability is the ratio of \"the area of the above shown region with additional constraint $\\{x \\in [0,a]\\}$\" to\n",
    "\"the area of the region $\\{(x,y) \\mid x \\in [0,a], y \\in [0,1]\\}$.\" Hence,\n",
    "\\begin{align*}\n",
    "P(a) &= \\frac{\\text{Area of the above region } \\cap \\{0 \\le x \\le a\\}}\n",
    "              {\\text{Area of the region }\\{(x,y) \\mid x \\in [0,a], y \\in [0,1]\\}} \\\\\n",
    "&= \\frac{\\text{Area of the above region } \\cap \\{0 \\le x \\le a\\}}\n",
    "    {a}.\n",
    "\\end{align*}\n"
   ]
  },
  {
   "cell_type": "markdown",
   "metadata": {},
   "source": [
    "### Function $P(a)$ when $0 \\lt a \\le 0.5$"
   ]
  },
  {
   "cell_type": "code",
   "execution_count": 23,
   "metadata": {},
   "outputs": [
    {
     "data": {
      "image/png": "[encoded data removed]",
      "text/plain": [
       "<Figure size 432x288 with 1 Axes>"
      ]
     },
     "metadata": {
      "needs_background": "light"
     },
     "output_type": "display_data"
    }
   ],
   "source": [
    "%matplotlib inline \n",
    "import numpy as np\n",
    "import matplotlib.pyplot as plt\n",
    "import matplotlib\n",
    "\n",
    "matplotlib.rcParams['mathtext.fontset'] = 'stix'\n",
    "matplotlib.rcParams['font.family'] = 'STIXGeneral'\n",
    "\n",
    "def annotate_dim(ax,xyfrom,xyto,text=None,fontsize=15, color='black', xoffset=0.0, yoffset=0.0):\n",
    "\n",
    "    if text is None:\n",
    "        text = str(np.sqrt( (xyfrom[0]-xyto[0])**2 + (xyfrom[1]-xyto[1])**2 ))\n",
    "\n",
    "    ax.annotate(\"\",xyfrom,xyto,arrowprops=dict(color=color, arrowstyle='<->', shrinkA=0, shrinkB=0))\n",
    "    ax.text((xyto[0]+xyfrom[0])/2+xoffset,(xyto[1]+xyfrom[1])/2+yoffset,text,fontsize=fontsize,color=color)\n",
    "\n",
    "# plot the feasible region\n",
    "d = np.linspace(-2,2,1000)\n",
    "x,y = np.meshgrid(d,d)\n",
    "plt.imshow( ( (y>=0) & (y<=1) & (x>=0) & (x<=1) & (y<=1.5-x) & (y>= 0.5-x) &\n",
    "                 (y>=0) & (y<=1) & (x>=0) & (x<=1) & (y<=x+0.5) & (y>= x-0.5) & (x<=0.3)  ) .astype(int) , \n",
    "                extent=(x.min(),x.max(),y.min(),y.max()),origin=\"lower\", cmap=\"Greys\", alpha = 0.3);\n",
    "\n",
    "# plot the lines defining the constraints\n",
    "x = np.linspace(-2, 2, 2000)\n",
    "y1 = 1.5 - x\n",
    "y2 = 0.5 - x\n",
    "y3 = x + 0.5\n",
    "y4 = x - 0.5\n",
    "\n",
    "# Make plot\n",
    "plt.plot(x, y1, label=r'$x+y \\leq 1.5$')\n",
    "plt.plot(x, y2, label=r'$0.5 \\leq x+y$')\n",
    "plt.plot(x, y3, label=r'$-0.5 \\leq x-y $')\n",
    "plt.plot(x, y4, label=r'$x-y \\leq 0.5$')\n",
    "plt.axvline(x=0.3, label=r'$x=a;  (0 < a=0.3 \\leq 0.5)$', color='black')\n",
    "\n",
    "plt.axis(\"scaled\")\n",
    "# plt.grid(True)\n",
    "plt.xlim(0,1)\n",
    "plt.ylim(0,1)\n",
    "plt.legend(bbox_to_anchor=(1.05, 1), loc=2, borderaxespad=0.)\n",
    "plt.xlabel(r'$x$')\n",
    "plt.ylabel(r'$y$')\n",
    "\n",
    "plt.text(-0.1,-0.1, 'A', fontsize=15)\n",
    "plt.text(0.29,-0.1, 'B', fontsize=15)\n",
    "plt.text(0.29,1.05, 'C', fontsize=15)\n",
    "plt.text(-0.05,1.05, 'D', fontsize=15)\n",
    "\n",
    "plt.text(-0.08,0.48, 'E', fontsize=15)\n",
    "plt.text(0.22,0.15, 'F', fontsize=15)\n",
    "plt.text(0.22,0.82, 'G', fontsize=15)\n",
    "annotate_dim(plt.gca(),[0,0.05],[0.3,0.05],'$a$', fontsize=15, color='blue', xoffset=-0.02, yoffset=0.02)\n",
    "annotate_dim(plt.gca(),[0.34,0.2],[0.34,0.8],'$2a$', fontsize=15, color='blue', xoffset=0.01, yoffset=-0.02)\n",
    "plt.show()"
   ]
  },
  {
   "cell_type": "code",
   "execution_count": 24,
   "metadata": {},
   "outputs": [
    {
     "data": {
      "text/latex": [
       "From the above figure, when $0 \\lt a \\le 0.5$, then $P(a)$ is:\n",
       "    \\begin{align*}\n",
       "    P(a) &= \\frac{\\text{Area of the shaded region, that is, area of } \\triangle\\text{EFG}} \n",
       "                    {\\text{Area of rectangle ABCD}} \\\\\n",
       "        &= \\frac{\\frac{1}{2} \\times 2a \\times a}{a \\times 1.0} \\\\\n",
       "        &= a.\n",
       "    \\addtocounter{equation}{1}\n",
       "    \\label{eq:p_a_1}  \\tag{\\theequation}\n",
       "    \\end{align*}\n"
      ],
      "text/plain": [
       "<IPython.core.display.Latex object>"
      ]
     },
     "metadata": {},
     "output_type": "display_data"
    }
   ],
   "source": [
    "%%latex\n",
    "From the above figure, when $0 \\lt a \\le 0.5$, then $P(a)$ is:\n",
    "    \\begin{align*}\n",
    "    P(a) &= \\frac{\\text{Area of the shaded region, that is, area of } \\triangle\\text{EFG}} \n",
    "                    {\\text{Area of rectangle ABCD}} \\\\\n",
    "        &= \\frac{\\frac{1}{2} \\times 2a \\times a}{a \\times 1.0} \\\\\n",
    "        &= a.\n",
    "    \\addtocounter{equation}{1}\n",
    "    \\label{eq:p_a_1}  \\tag{\\theequation}\n",
    "    \\end{align*}"
   ]
  },
  {
   "cell_type": "markdown",
   "metadata": {},
   "source": [
    "### Function $P(a)$ when $0.5 \\lt a \\le 1.0$"
   ]
  },
  {
   "cell_type": "code",
   "execution_count": 25,
   "metadata": {},
   "outputs": [
    {
     "data": {
      "image/png": "[encoded data removed]",
      "text/plain": [
       "<Figure size 432x288 with 1 Axes>"
      ]
     },
     "metadata": {
      "needs_background": "light"
     },
     "output_type": "display_data"
    }
   ],
   "source": [
    "%matplotlib inline \n",
    "import numpy as np\n",
    "import matplotlib.pyplot as plt\n",
    "import matplotlib\n",
    "\n",
    "matplotlib.rcParams['mathtext.fontset'] = 'stix'  # or 'cm'\n",
    "matplotlib.rcParams['font.family'] = 'STIXGeneral'\n",
    "\n",
    "def annotate_dim(ax,xyfrom,xyto,text=None,fontsize=15, color='black', xoffset=0.0, yoffset=0.0):\n",
    "\n",
    "    if text is None:\n",
    "        text = str(np.sqrt( (xyfrom[0]-xyto[0])**2 + (xyfrom[1]-xyto[1])**2 ))\n",
    "\n",
    "    ax.annotate(\"\",xyfrom,xyto,arrowprops=dict(color=color, arrowstyle='<->', shrinkA=0, shrinkB=0))\n",
    "    ax.text((xyto[0]+xyfrom[0])/2+xoffset,(xyto[1]+xyfrom[1])/2+yoffset,text,fontsize=fontsize,color=color)\n",
    "\n",
    "# plot the feasible region\n",
    "d = np.linspace(-2,2,1000)\n",
    "x,y = np.meshgrid(d,d)\n",
    "plt.imshow( ( (y>=0) & (y<=1) & (x>=0) & (x<=1) & (y<=1.5-x) & (y>= 0.5-x) &\n",
    "                 (y>=0) & (y<=1) & (x>=0) & (x<=1) & (y<=x+0.5) & (y>= x-0.5) & (x<=0.65)  ) .astype(int) , \n",
    "                extent=(x.min(),x.max(),y.min(),y.max()),origin=\"lower\", cmap=\"Greys\", alpha = 0.1);\n",
    "\n",
    "# plot the lines defining the constraints\n",
    "x = np.linspace(-2, 2, 2000)\n",
    "y1 = 1.5 - x\n",
    "y2 = 0.5 - x\n",
    "y3 = x + 0.5\n",
    "y4 = x - 0.5\n",
    "\n",
    "aa=0.65\n",
    "# Make plot\n",
    "plt.plot(x, y1, label=r'$x+y \\leq 1.5$')\n",
    "plt.plot(x, y2, label=r'$0.5 \\leq x+y$')\n",
    "plt.plot(x, y3, label=r'$-0.5 \\leq x-y $')\n",
    "plt.plot(x, y4, label=r'$x-y \\leq 0.5$')\n",
    "plt.axvline(x=aa, label=r'$x=a;  (0 < a=0.65 \\leq 0.5)$', color='black')\n",
    "\n",
    "plt.axis(\"scaled\")\n",
    "# plt.grid(True)\n",
    "plt.xlim(0,1)\n",
    "plt.ylim(0,1)\n",
    "plt.legend(bbox_to_anchor=(1.05, 1), loc=2, borderaxespad=0.)\n",
    "plt.xlabel(r'$x$')\n",
    "plt.ylabel(r'$y$')\n",
    "\n",
    "plt.text(-0.1,-0.1, 'A', fontsize=15)\n",
    "plt.text(aa-0.01,-0.1, 'B', fontsize=15)\n",
    "plt.text(aa-0.01,1.05, 'C', fontsize=15)\n",
    "plt.text(-0.05,1.05, 'D', fontsize=15)\n",
    "\n",
    "plt.text(-0.08,0.48, 'E', fontsize=15)\n",
    "plt.text(0.48,-0.08, 'F', fontsize=15)\n",
    "plt.text(1.01,0.48, 'G', fontsize=15)\n",
    "plt.text(0.48,1.03, 'H', fontsize=15)\n",
    "plt.text(aa+0.015,aa-0.5-0.05, 'K', fontsize=15)\n",
    "plt.text(aa+0.015,1.5-aa+0.01, 'L', fontsize=15)\n",
    "annotate_dim(plt.gca(),[0,0.04],[aa,0.04],'$a$', fontsize=15, color='blue', xoffset=-0.02, yoffset=0.02)\n",
    "annotate_dim(plt.gca(),[aa,0.04],[1,0.04],'$1-a$', fontsize=15, color='blue', xoffset=-0.08, yoffset=0.02)\n",
    "annotate_dim(plt.gca(),[aa-0.04,aa-0.5],[aa-0.04,1.5-aa],'$2(1-a)$', fontsize=15, color='blue', xoffset=-0.25, yoffset=-0.02)\n",
    "plt.show()"
   ]
  },
  {
   "cell_type": "code",
   "execution_count": 26,
   "metadata": {},
   "outputs": [
    {
     "data": {
      "text/latex": [
       "From the above figure, when $0.5 \\lt a \\le 1$, then $P(a)$ is:\n",
       "    \\begin{align*}\n",
       "    P(a) &= \\frac{\\text{Area of the shaded region, that is, area of }\\square\\text{EFGH} - \\text{area of }\\triangle\\text{GLK}} \n",
       "                    {\\text{Area of rectangle ABCD}} \\\\\n",
       "        &= \\frac{2\\times(\\text{area of }\\triangle\\text{EGH}) - \\text{area of }\\triangle\\text{GLK}}{\\text{Area of rectangle ABCD}} \\\\\n",
       "        &= \\frac{ 2\\times (\\frac{1}{2}\\times 1.0 \\times 0.5) - \\frac{1}{2}\\times 2(1-a) \\times (1-a)}{a \\times 1.0} \\\\\n",
       "        &= \\frac{ \\frac{1}{2} - (1-2a+a^2)}{a} \\\\\n",
       "        &= \\frac{ -\\frac{1}{2} +2a-a^2}{a} \\\\\n",
       "        &= -a+2-\\frac{1}{2a}.\n",
       "    \\addtocounter{equation}{1}\n",
       "    \\label{eq:p_a_2}  \\tag{\\theequation}\n",
       "    \\end{align*}\n"
      ],
      "text/plain": [
       "<IPython.core.display.Latex object>"
      ]
     },
     "metadata": {},
     "output_type": "display_data"
    }
   ],
   "source": [
    "%%latex\n",
    "From the above figure, when $0.5 \\lt a \\le 1$, then $P(a)$ is:\n",
    "    \\begin{align*}\n",
    "    P(a) &= \\frac{\\text{Area of the shaded region, that is, area of }\\square\\text{EFGH} - \\text{area of }\\triangle\\text{GLK}} \n",
    "                    {\\text{Area of rectangle ABCD}} \\\\\n",
    "        &= \\frac{2\\times(\\text{area of }\\triangle\\text{EGH}) - \\text{area of }\\triangle\\text{GLK}}{\\text{Area of rectangle ABCD}} \\\\\n",
    "        &= \\frac{ 2\\times (\\frac{1}{2}\\times 1.0 \\times 0.5) - \\frac{1}{2}\\times 2(1-a) \\times (1-a)}{a \\times 1.0} \\\\\n",
    "        &= \\frac{ \\frac{1}{2} - (1-2a+a^2)}{a} \\\\\n",
    "        &= \\frac{ -\\frac{1}{2} +2a-a^2}{a} \\\\\n",
    "        &= -a+2-\\frac{1}{2a}.\n",
    "    \\addtocounter{equation}{1}\n",
    "    \\label{eq:p_a_2}  \\tag{\\theequation}\n",
    "    \\end{align*}"
   ]
  },
  {
   "cell_type": "markdown",
   "metadata": {},
   "source": [
    "### Final form of function $P(a)$"
   ]
  },
  {
   "cell_type": "code",
   "execution_count": 27,
   "metadata": {},
   "outputs": [
    {
     "data": {
      "text/latex": [
       "Noticing that $P(a=0) = 0$ is satisfied in equation \\eqref{eq:p_a_1}, and noticing that \n",
       "$P(a=0.5) = 0.5$ is satisfied in both equation \\eqref{eq:p_a_1} and \\eqref{eq:p_a_2}, then $P(a)$ \n",
       "can be expressed as a piecewise-defined function as follows:\n",
       "\\begin{equation}\n",
       "P(a) = \\left\\{\n",
       "        \\begin{array}{ll}\n",
       "            a & \\quad 0 \\leq a \\leq 0.5 \\\\\n",
       "            -a+2-\\frac{1}{2a} & \\quad 0.5 \\leq a \\leq 1\n",
       "        \\end{array}\n",
       "    \\right.\n",
       "\\end{equation}\n"
      ],
      "text/plain": [
       "<IPython.core.display.Latex object>"
      ]
     },
     "metadata": {},
     "output_type": "display_data"
    }
   ],
   "source": [
    "%%latex\n",
    "Noticing that $P(a=0) = 0$ is satisfied in equation \\eqref{eq:p_a_1}, and noticing that \n",
    "$P(a=0.5) = 0.5$ is satisfied in both equation \\eqref{eq:p_a_1} and \\eqref{eq:p_a_2}, then $P(a)$ \n",
    "can be expressed as a piecewise-defined function as follows:\n",
    "\\begin{equation}\n",
    "P(a) = \\left\\{\n",
    "        \\begin{array}{ll}\n",
    "            a & \\quad 0 \\leq a \\leq 0.5 \\\\\n",
    "            -a+2-\\frac{1}{2a} & \\quad 0.5 \\leq a \\leq 1\n",
    "        \\end{array}\n",
    "    \\right.\n",
    "\\end{equation}"
   ]
  },
  {
   "cell_type": "markdown",
   "metadata": {},
   "source": [
    "## Maximum value of function $P(a)$ when $a \\in [0,1]$"
   ]
  },
  {
   "cell_type": "code",
   "execution_count": 2,
   "metadata": {},
   "outputs": [
    {
     "data": {
      "text/latex": [
       "In the domain $\\{a \\mid 0\\le a \\le0.5\\}$\n"
      ],
      "text/plain": [
       "<IPython.core.display.Latex object>"
      ]
     },
     "metadata": {},
     "output_type": "display_data"
    }
   ],
   "source": [
    "%%latex\n",
    "In the domain $\\{a \\mid 0\\le a \\le0.5\\}$"
   ]
  },
  {
   "cell_type": "code",
   "execution_count": null,
   "metadata": {},
   "outputs": [],
   "source": []
  }
 ],
 "metadata": {
  "authors": [
   {
    "name": "Ivan Setiawan"
   },
   {
    "name": "Harry Wangidjaja"
   }
  ],
  "date": "2020/02/08",
  "kernelspec": {
   "display_name": "Python 3",
   "language": "python",
   "name": "python3"
  },
  "language_info": {
   "codemirror_mode": {
    "name": "ipython",
    "version": 3
   },
   "file_extension": ".py",
   "mimetype": "text/x-python",
   "name": "python",
   "nbconvert_exporter": "python",
   "pygments_lexer": "ipython3",
   "version": "3.7.6"
  },
  "name": "20200208_prob_sin2x.ipynb",
  "title": "What is the maximum value of P(a)?"
 },
 "nbformat": 4,
 "nbformat_minor": 2
}
