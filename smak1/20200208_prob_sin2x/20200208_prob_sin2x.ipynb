{
 "cells": [
  {
   "cell_type": "markdown",
   "metadata": {},
   "source": [
    "# Problem\n",
    "![problem.jpeg](problem.jpeg)"
   ]
  },
  {
   "cell_type": "markdown",
   "metadata": {},
   "source": [
    "# Solution"
   ]
  },
  {
   "cell_type": "code",
   "execution_count": 52,
   "metadata": {},
   "outputs": [
    {
     "data": {
      "text/latex": [
       "Let $\\rm{Prob}\\{\\mathbf{e}\\}$ be the probability of an event $\\mathbf{e}$ occurs. Thus $P(a)$ is:\n",
       "    \\begin{equation}\n",
       "    P(a) = \\rm{Prob}\\{ \\sin^2(\\pi x) + \\sin^2(\\pi y) \\gt 1\\},\n",
       "    \\label{eq:paorig}\n",
       "    \\end{equation}\n",
       "where $x$ and $y$ be chosen independently at uniformly random from the interval $[0, a]$ and $[0, 1]$, respectively.\n"
      ],
      "text/plain": [
       "<IPython.core.display.Latex object>"
      ]
     },
     "metadata": {},
     "output_type": "display_data"
    }
   ],
   "source": [
    "%%latex\n",
    "Let $\\rm{Prob}\\{\\mathbf{e}\\}$ be the probability of an event $\\mathbf{e}$ occurs. Thus $P(a)$ is:\n",
    "    \\begin{equation}\n",
    "    P(a) = \\rm{Prob}\\{ \\sin^2(\\pi x) + \\sin^2(\\pi y) \\gt 1\\},\n",
    "    \\label{eq:paorig}\n",
    "    \\end{equation}\n",
    "where $x$ and $y$ be chosen independently at uniformly random from the interval $[0, a]$ and $[0, 1]$, respectively.\n"
   ]
  },
  {
   "cell_type": "code",
   "execution_count": 53,
   "metadata": {},
   "outputs": [
    {
     "data": {
      "text/latex": [
       "Because\n",
       "\\begin{align*}\n",
       "\\sin^2(\\pi x) + \\sin^2(\\pi y) \\gt 1\n",
       "& \\Rightarrow \\frac{1-\\cos(2\\pi x)}{2} + \\frac{1-\\cos(2\\pi y)}{2} \\gt 1 &&\\text{(pakai rumus $\\cos(2\\alpha)$)} \\\\\n",
       "& \\Rightarrow 2 - [\\cos(2\\pi x) + \\cos(2\\pi y)] \\gt 2 \\\\\n",
       "& \\Rightarrow - [\\cos(2\\pi x) + \\cos(2\\pi y)] \\gt 0 \\\\\n",
       "& \\Rightarrow \\cos(2\\pi x) + \\cos(2\\pi y) \\lt 0 \\\\\n",
       "& \\Rightarrow 2\\cos(\\pi(x+y)) \\times \\cos(\\pi(x-y)) \\lt 0 && \\text{(pakai rumus $\\cos\\alpha + \\cos\\beta$)}\\\\\n",
       "& \\Rightarrow \\cos(\\pi(x+y)) \\times \\cos(\\pi(x-y)) \\lt 0,\n",
       "\\end{align*}\n"
      ],
      "text/plain": [
       "<IPython.core.display.Latex object>"
      ]
     },
     "metadata": {},
     "output_type": "display_data"
    }
   ],
   "source": [
    "%%latex\n",
    "Because\n",
    "\\begin{align*}\n",
    "\\sin^2(\\pi x) + \\sin^2(\\pi y) \\gt 1\n",
    "& \\Rightarrow \\frac{1-\\cos(2\\pi x)}{2} + \\frac{1-\\cos(2\\pi y)}{2} \\gt 1 &&\\text{(pakai rumus $\\cos(2\\alpha)$)} \\\\\n",
    "& \\Rightarrow 2 - [\\cos(2\\pi x) + \\cos(2\\pi y)] \\gt 2 \\\\\n",
    "& \\Rightarrow - [\\cos(2\\pi x) + \\cos(2\\pi y)] \\gt 0 \\\\\n",
    "& \\Rightarrow \\cos(2\\pi x) + \\cos(2\\pi y) \\lt 0 \\\\\n",
    "& \\Rightarrow 2\\cos(\\pi(x+y)) \\times \\cos(\\pi(x-y)) \\lt 0 && \\text{(pakai rumus $\\cos\\alpha + \\cos\\beta$)}\\\\\n",
    "& \\Rightarrow \\cos(\\pi(x+y)) \\times \\cos(\\pi(x-y)) \\lt 0,\n",
    "\\end{align*}"
   ]
  },
  {
   "cell_type": "code",
   "execution_count": 54,
   "metadata": {},
   "outputs": [
    {
     "data": {
      "text/latex": [
       "then, the above event probabilty $P(a)$ in equation $\\eqref{eq:paorig}$ is identical to:\n",
       "    \\begin{equation}\n",
       "    P(a) = \\rm{Prob}\\{ \\cos(\\pi(x+y)) \\times \\cos(\\pi(x-y)) \\lt 0 \\}.\n",
       "    \\label{eq:pasoln}\n",
       "    \\end{equation}\n"
      ],
      "text/plain": [
       "<IPython.core.display.Latex object>"
      ]
     },
     "metadata": {},
     "output_type": "display_data"
    }
   ],
   "source": [
    "%%latex\n",
    "then, the above event probabilty $P(a)$ in equation $\\eqref{eq:paorig}$ is identical to:\n",
    "    \\begin{equation}\n",
    "    P(a) = \\rm{Prob}\\{ \\cos(\\pi(x+y)) \\times \\cos(\\pi(x-y)) \\lt 0 \\}.\n",
    "    \\label{eq:pasoln}\n",
    "    \\end{equation}\n"
   ]
  },
  {
   "cell_type": "code",
   "execution_count": 55,
   "metadata": {},
   "outputs": [
    {
     "data": {
      "text/latex": [
       "As the first step, we need to find the location of points $(x, y)$ inside the given area, \n",
       "that satisfy $\\cos(\\pi(x+y)) \\times \\cos(\\pi(x-y)) \\lt 0$, that is:\n",
       "    \\begin{equation}\n",
       "    \\{ (x,y) \\mid (\\cos(\\pi(x+y)) \\times \\cos(\\pi(x-y)) \\lt 0) \n",
       "      \\cap (0 \\leq x \\leq a) \\cap (0 \\leq y \\leq 1) \\}.\n",
       "    \\label{eq:soln-area}\n",
       "    \\end{equation}\n"
      ],
      "text/plain": [
       "<IPython.core.display.Latex object>"
      ]
     },
     "metadata": {},
     "output_type": "display_data"
    }
   ],
   "source": [
    "%%latex\n",
    "As the first step, we need to find the location of points $(x, y)$ inside the given area, \n",
    "that satisfy $\\cos(\\pi(x+y)) \\times \\cos(\\pi(x-y)) \\lt 0$, that is:\n",
    "    \\begin{equation}\n",
    "    \\{ (x,y) \\mid (\\cos(\\pi(x+y)) \\times \\cos(\\pi(x-y)) \\lt 0) \n",
    "      \\cap (0 \\leq x \\leq a) \\cap (0 \\leq y \\leq 1) \\}.\n",
    "    \\label{eq:soln-area}\n",
    "    \\end{equation}"
   ]
  },
  {
   "cell_type": "code",
   "execution_count": 56,
   "metadata": {},
   "outputs": [
    {
     "data": {
      "text/latex": [
       "There are 2 cases that satisfy {$\\cos(\\pi(x+y)) \\times \\cos(\\pi(x-y)) \\lt 0$}, \n",
       "that is, {$\\cos(\\pi(x+y)) \\gt 0$ AND $\\cos(\\pi(x-y)) \\lt 0$} as the first case, \n",
       "OR {$\\cos(\\pi(x+y)) \\lt 0$ AND $\\cos(\\pi(x-y)) \\gt 0$} as the second case.\n",
       "So, equation $\\eqref{eq:soln-area}$ can be found as the union of the above 2 cases, \n",
       "that is (all inside $((0 \\leq x \\leq a) \\cap (0 \\leq y \\leq 1))$):\n",
       "    \\begin{align}\n",
       "    \\{ (x,y) \\mid (\\cos(\\pi(x+y)) \\times \\cos(\\pi(x-y)) \\lt 0) \\} = \\\\\n",
       "    \\{ (x,y) \\mid (\\cos(\\pi(x+y)) \\gt 0) \\cap (\\cos(\\pi(x-y)) \\lt 0) \\} \\label{eq:soln-area-case1}  && \\text{(case 1)}\\\\ \n",
       "    \\cup\n",
       "    \\{ (x,y) \\mid (\\cos(\\pi(x+y)) \\lt 0) \\cap (\\cos(\\pi(x-y)) \\gt 0) \\} && \\text{(case 2)}.\n",
       "    \\label{eq:soln-area-case2}\n",
       "    \\end{align}\n"
      ],
      "text/plain": [
       "<IPython.core.display.Latex object>"
      ]
     },
     "metadata": {},
     "output_type": "display_data"
    }
   ],
   "source": [
    "%%latex\n",
    "There are 2 cases that satisfy {$\\cos(\\pi(x+y)) \\times \\cos(\\pi(x-y)) \\lt 0$}, \n",
    "that is, {$\\cos(\\pi(x+y)) \\gt 0$ AND $\\cos(\\pi(x-y)) \\lt 0$} as the first case, \n",
    "OR {$\\cos(\\pi(x+y)) \\lt 0$ AND $\\cos(\\pi(x-y)) \\gt 0$} as the second case.\n",
    "So, equation $\\eqref{eq:soln-area}$ can be found as the union of the above 2 cases, \n",
    "that is (all inside $((0 \\leq x \\leq a) \\cap (0 \\leq y \\leq 1))$):\n",
    "    \\begin{align}\n",
    "    \\{ (x,y) \\mid (\\cos(\\pi(x+y)) \\times \\cos(\\pi(x-y)) \\lt 0) \\} = \\\\\n",
    "    \\{ (x,y) \\mid (\\cos(\\pi(x+y)) \\gt 0) \\cap (\\cos(\\pi(x-y)) \\lt 0) \\} \\label{eq:soln-area-case1}  && \\text{(case 1)}\\\\ \n",
    "    \\cup\n",
    "    \\{ (x,y) \\mid (\\cos(\\pi(x+y)) \\lt 0) \\cap (\\cos(\\pi(x-y)) \\gt 0) \\} && \\text{(case 2)}.\n",
    "    \\label{eq:soln-area-case2}\n",
    "    \\end{align}"
   ]
  },
  {
   "cell_type": "code",
   "execution_count": 57,
   "metadata": {},
   "outputs": [
    {
     "data": {
      "text/latex": [
       "Keeping in mind that $x \\in [0, a]$ (with $0 \\le a \\le 1$) and $y \\in [0, 1]$, below we find the regions of $(x, y)$ that satisfy case 1 and case 2.\n"
      ],
      "text/plain": [
       "<IPython.core.display.Latex object>"
      ]
     },
     "metadata": {},
     "output_type": "display_data"
    }
   ],
   "source": [
    "%%latex\n",
    "Keeping in mind that $x \\in [0, a]$ (with $0 \\le a \\le 1$) and $y \\in [0, 1]$, below we find the regions of $(x, y)$ that satisfy case 1 and case 2."
   ]
  },
  {
   "cell_type": "markdown",
   "metadata": {},
   "source": [
    "## Case 1: $\\{ (x,y) \\mid (\\cos(\\pi(x+y)) \\gt 0) \\cap (\\cos(\\pi(x-y)) \\lt 0) \\}$"
   ]
  },
  {
   "cell_type": "code",
   "execution_count": 58,
   "metadata": {},
   "outputs": [
    {
     "data": {
      "image/png": "[encoded data removed]",
      "text/plain": [
       "<Figure size 432x288 with 2 Axes>"
      ]
     },
     "metadata": {
      "needs_background": "light"
     },
     "output_type": "display_data"
    }
   ],
   "source": [
    "%matplotlib inline \n",
    "import numpy as np\n",
    "import matplotlib.pyplot as plt\n",
    "\n",
    "plt.subplot(1, 2, 1)\n",
    "xpy=np.arange(0, 0.5, 0.01)\n",
    "cosxpy=np.cos(np.pi*xpy)\n",
    "plt.plot(xpy,cosxpy, \"r-\")\n",
    "xpy=np.arange(0.5, 1.5, 0.01)\n",
    "cosxpy=np.cos(np.pi*xpy)\n",
    "plt.plot(xpy,cosxpy, \"b--\")\n",
    "xpy=np.arange(1.5, 2.0, 0.01)\n",
    "cosxpy=np.cos(np.pi*xpy)\n",
    "plt.plot(xpy,cosxpy, \"r-\")\n",
    "plt.xlabel(\"$(x+y)$\")\n",
    "plt.ylabel(\"$\\cos(\\pi(x+y))$\")\n",
    "plt.axis('scaled')\n",
    "plt.grid(True)\n",
    "\n",
    "plt.subplot(1, 2, 2)\n",
    "# plot the feasible region\n",
    "d = np.linspace(-2,2,1000)\n",
    "x,y = np.meshgrid(d,d)\n",
    "plt.imshow( ( ((y>=0) & (y<=1) & (x>=0) & (x<=1) & (y<=0.5-x) & (y>= -x)) |\n",
    "            ((y>=0) & (y<=1) & (x>=0) & (x<=1) & (y<=2-x) & (y>= 1.5-x)) ) .astype(int) , \n",
    "                extent=(x.min(),x.max(),y.min(),y.max()),origin=\"lower\", cmap=\"Greys\", alpha = 0.3);\n",
    "\n",
    "# plot the lines defining the constraints\n",
    "x = np.linspace(-2, 2, 2000)\n",
    "y1 = 0.5 - x\n",
    "y2 = 1.5 - x\n",
    "\n",
    "# Make plot\n",
    "plt.plot(x, y1, label=r'$x+y \\leq 0.5$')\n",
    "plt.plot(x, y2, label=r'$1.5 \\leq x+y$')\n",
    "plt.axis(\"scaled\")\n",
    "# plt.grid(True)\n",
    "plt.xlim(0,1)\n",
    "plt.ylim(0,1)\n",
    "plt.legend(bbox_to_anchor=(1.05, 1), loc=2, borderaxespad=0.)\n",
    "plt.xlabel(r'$x$')\n",
    "plt.ylabel(r'$y$')\n",
    "\n",
    "#plt.tight_layout()\n",
    "plt.tight_layout(rect=[0, 0.03, 2, 0.95])\n",
    "plt.show()"
   ]
  },
  {
   "cell_type": "code",
   "execution_count": 59,
   "metadata": {},
   "outputs": [
    {
     "data": {
      "text/latex": [
       "In case 1, the former term of equation $\\eqref{eq:soln-area-case1}$, that is, $\\cos(\\pi(x+y))$,\n",
       "will satisfy $(\\cos(\\pi(x+y)) \\gt 0$ at the above-left red-solid-line cosine plot. So, the region of $(x, y)$ is:\n",
       "\\begin{equation}\n",
       "(0 \\le (x+y) \\le 0.5) \\cup (1.5 \\le (x+y) \\le 2.0), \n",
       "\\end{equation}\n",
       "which is shown in the above-right figure.\n"
      ],
      "text/plain": [
       "<IPython.core.display.Latex object>"
      ]
     },
     "metadata": {},
     "output_type": "display_data"
    }
   ],
   "source": [
    "%%latex\n",
    "In case 1, the former term of equation $\\eqref{eq:soln-area-case1}$, that is, $\\cos(\\pi(x+y))$,\n",
    "will satisfy $(\\cos(\\pi(x+y)) \\gt 0$ at the above-left red-solid-line cosine plot. So, the region of $(x, y)$ is:\n",
    "\\begin{equation}\n",
    "(0 \\le (x+y) \\le 0.5) \\cup (1.5 \\le (x+y) \\le 2.0), \n",
    "\\end{equation}\n",
    "which is shown in the above-right figure."
   ]
  },
  {
   "cell_type": "code",
   "execution_count": 60,
   "metadata": {},
   "outputs": [
    {
     "data": {
      "image/png": "[encoded data removed]",
      "text/plain": [
       "<Figure size 432x288 with 2 Axes>"
      ]
     },
     "metadata": {
      "needs_background": "light"
     },
     "output_type": "display_data"
    }
   ],
   "source": [
    "%matplotlib inline \n",
    "import numpy as np\n",
    "import matplotlib.pyplot as plt\n",
    "\n",
    "plt.subplot(1, 2, 1)\n",
    "xmy=np.arange(-1, -0.5, 0.01)\n",
    "cosxmy=np.cos(np.pi*xmy)\n",
    "plt.plot(xmy,cosxmy, \"r-\")\n",
    "xmy=np.arange(-0.5, 0.5, 0.01)\n",
    "cosxmy=np.cos(np.pi*xmy)\n",
    "plt.plot(xmy,cosxmy, \"b--\")\n",
    "xmy=np.arange(0.5, 1.0, 0.01)\n",
    "cosxmy=np.cos(np.pi*xmy)\n",
    "plt.plot(xmy,cosxmy, \"r-\")\n",
    "plt.xlabel(\"$(x-y)$\")\n",
    "plt.ylabel(\"$\\cos(\\pi(x-y))$\")\n",
    "plt.axis('scaled')\n",
    "plt.grid(True)\n",
    "\n",
    "plt.subplot(1, 2, 2)\n",
    "# plot the feasible region\n",
    "d = np.linspace(-2,2,1000)\n",
    "x,y = np.meshgrid(d,d)\n",
    "plt.imshow( ( ((y>=0) & (y<=1) & (x>=0) & (x<=1) & (y<=x+1) & (y>= x+0.5)) |\n",
    "            ((y>=0) & (y<=1) & (x>=0) & (x<=1) & (y<=x-0.5) & (y>= x-1.0)) ) .astype(int) , \n",
    "                extent=(x.min(),x.max(),y.min(),y.max()),origin=\"lower\", cmap=\"Greys\", alpha = 0.3);\n",
    "\n",
    "# plot the lines defining the constraints\n",
    "x = np.linspace(-2, 2, 2000)\n",
    "y1 = x + 0.5\n",
    "y2 = x - 0.5\n",
    "\n",
    "# Make plot\n",
    "plt.plot(x, y1, label=r'$x-y \\leq -0.5$')\n",
    "plt.plot(x, y2, label=r'$0.5 \\leq x-y$')\n",
    "plt.axis(\"scaled\")\n",
    "# plt.grid(True)\n",
    "plt.xlim(0,1)\n",
    "plt.ylim(0,1)\n",
    "plt.legend(bbox_to_anchor=(1.05, 1), loc=2, borderaxespad=0.)\n",
    "plt.xlabel(r'$x$')\n",
    "plt.ylabel(r'$y$')\n",
    "\n",
    "#plt.tight_layout()\n",
    "plt.tight_layout(rect=[0, 0.03, 2, 0.95])\n",
    "plt.show()"
   ]
  },
  {
   "cell_type": "code",
   "execution_count": 61,
   "metadata": {},
   "outputs": [
    {
     "data": {
      "text/latex": [
       "Similarly in case 1, the later term of equation $\\eqref{eq:soln-area-case1}$, that is, $\\cos(\\pi(x-y))$,\n",
       "will satisfy $(\\cos(\\pi(x-y)) \\lt 0$ at the above-left red-solid-line cosine plot. So, the region of $(x, y)$ is:\n",
       "\\begin{equation}\n",
       "(-1 \\le (x-y) \\le -0.5) \\cup (0.5 \\le (x-y) \\le 1), \n",
       "\\end{equation}\n",
       "which is shown in the above-right figure.\n"
      ],
      "text/plain": [
       "<IPython.core.display.Latex object>"
      ]
     },
     "metadata": {},
     "output_type": "display_data"
    }
   ],
   "source": [
    "%%latex\n",
    "Similarly in case 1, the later term of equation $\\eqref{eq:soln-area-case1}$, that is, $\\cos(\\pi(x-y))$,\n",
    "will satisfy $(\\cos(\\pi(x-y)) \\lt 0$ at the above-left red-solid-line cosine plot. So, the region of $(x, y)$ is:\n",
    "\\begin{equation}\n",
    "(-1 \\le (x-y) \\le -0.5) \\cup (0.5 \\le (x-y) \\le 1), \n",
    "\\end{equation}\n",
    "which is shown in the above-right figure."
   ]
  },
  {
   "cell_type": "code",
   "execution_count": 62,
   "metadata": {},
   "outputs": [
    {
     "data": {
      "text/latex": [
       "We see from the figures that the region\n",
       "\\begin{equation*}\n",
       "(0 \\le (x+y) \\le 0.5) \\cup (1.5 \\le (x+y) \\le 2.0), \n",
       "\\end{equation*}\n",
       "and the region\n",
       "\\begin{equation*}\n",
       "(-1 \\le (x-y) \\le -0.5) \\cup (0.5 \\le (x-y) \\le 1),\n",
       "\\end{equation*}\n",
       "do NOT overlap, so the region that satisfy case 1 does NOT exist.\n"
      ],
      "text/plain": [
       "<IPython.core.display.Latex object>"
      ]
     },
     "metadata": {},
     "output_type": "display_data"
    }
   ],
   "source": [
    "%%latex\n",
    "We see from the figures that the region\n",
    "\\begin{equation*}\n",
    "(0 \\le (x+y) \\le 0.5) \\cup (1.5 \\le (x+y) \\le 2.0), \n",
    "\\end{equation*}\n",
    "and the region\n",
    "\\begin{equation*}\n",
    "(-1 \\le (x-y) \\le -0.5) \\cup (0.5 \\le (x-y) \\le 1),\n",
    "\\end{equation*}\n",
    "do NOT overlap, so the region that satisfy case 1 does NOT exist."
   ]
  },
  {
   "cell_type": "markdown",
   "metadata": {},
   "source": [
    "## Case 2: $\\{ (x,y) \\mid (\\cos(\\pi(x+y)) \\lt 0) \\cap (\\cos(\\pi(x-y)) \\gt 0) \\}$"
   ]
  },
  {
   "cell_type": "code",
   "execution_count": 63,
   "metadata": {},
   "outputs": [
    {
     "data": {
      "image/png": "[encoded data removed]",
      "text/plain": [
       "<Figure size 432x288 with 1 Axes>"
      ]
     },
     "metadata": {
      "needs_background": "light"
     },
     "output_type": "display_data"
    }
   ],
   "source": [
    "%matplotlib inline \n",
    "import numpy as np\n",
    "import matplotlib.pyplot as plt\n",
    "xpy=np.arange(0, 0.5, 0.01)\n",
    "cosxpy=np.cos(np.pi*xpy)\n",
    "plt.plot(xpy,cosxpy, \"r-\")\n",
    "xpy=np.arange(0.5, 1.5, 0.01)\n",
    "cosxpy=np.cos(np.pi*xpy)\n",
    "plt.plot(xpy,cosxpy, \"b--\")\n",
    "xpy=np.arange(1.5, 2.0, 0.01)\n",
    "cosxpy=np.cos(np.pi*xpy)\n",
    "plt.plot(xpy,cosxpy, \"r-\")\n",
    "plt.xlabel(\"$(x+y)$\")\n",
    "plt.ylabel(\"$\\cos(\\pi(x+y))$\")\n",
    "plt.axis('scaled')\n",
    "plt.grid(True)\n",
    "plt.show()"
   ]
  },
  {
   "cell_type": "code",
   "execution_count": 64,
   "metadata": {},
   "outputs": [
    {
     "data": {
      "image/png": "[encoded data removed]",
      "text/plain": [
       "<Figure size 432x288 with 1 Axes>"
      ]
     },
     "metadata": {
      "needs_background": "light"
     },
     "output_type": "display_data"
    }
   ],
   "source": [
    "%matplotlib inline\n",
    "import numpy as np\n",
    "import matplotlib.pyplot as plt\n",
    "# plot the feasible region\n",
    "d = np.linspace(-2,2,1000)\n",
    "x,y = np.meshgrid(d,d)\n",
    "plt.imshow( ( ((y>=0) & (y<=1) & (x>=0) & (x<=1) & (y<=0.5-x) & (y>= -x)) |\n",
    "            ((y>=0) & (y<=1) & (x>=0) & (x<=1) & (y<=2-x) & (y>= 1.5-x)) ) .astype(int) , \n",
    "                extent=(x.min(),x.max(),y.min(),y.max()),origin=\"lower\", cmap=\"Greys\", alpha = 0.3);\n",
    "\n",
    "# plot the lines defining the constraints\n",
    "x = np.linspace(-2, 2, 2000)\n",
    "y1 = 0.5 - x\n",
    "y2 = 1.5 - x\n",
    "\n",
    "# Make plot\n",
    "plt.plot(x, y1, label=r'$x+y \\leq 0.5$')\n",
    "plt.plot(x, y2, label=r'$1.5 \\leq x+y$')\n",
    "plt.axis(\"scaled\")\n",
    "# plt.grid(True)\n",
    "plt.xlim(0,1)\n",
    "plt.ylim(0,1)\n",
    "plt.legend(bbox_to_anchor=(1.05, 1), loc=2, borderaxespad=0.)\n",
    "plt.xlabel(r'$x$')\n",
    "plt.ylabel(r'$y$')\n",
    "plt.show()"
   ]
  },
  {
   "cell_type": "code",
   "execution_count": 65,
   "metadata": {},
   "outputs": [
    {
     "data": {
      "image/png": "[encoded data removed]",
      "text/plain": [
       "<Figure size 432x288 with 1 Axes>"
      ]
     },
     "metadata": {
      "needs_background": "light"
     },
     "output_type": "display_data"
    }
   ],
   "source": [
    "%matplotlib inline\n",
    "import matplotlib.pyplot as plt\n",
    "# plot the feasible region\n",
    "d = np.linspace(-2,16,300)\n",
    "x,y = np.meshgrid(d,d)\n",
    "plt.imshow( ((y>=2) & (2*y<=25-x) & (4*y>=2*x-8) & (y<=2*x-5)).astype(int) , \n",
    "                extent=(x.min(),x.max(),y.min(),y.max()),origin=\"lower\", cmap=\"Greys\", alpha = 0.3);\n",
    "\n",
    "# plot the lines defining the constraints\n",
    "x = np.linspace(0, 16, 2000)\n",
    "# y >= 2\n",
    "y1 = (x*0) + 2\n",
    "# 2y <= 25 - x\n",
    "y2 = (25-x)/2.0\n",
    "# 4y >= 2x - 8 \n",
    "y3 = (2*x-8)/4.0\n",
    "# y <= 2x - 5 \n",
    "y4 = 2 * x -5\n",
    "\n",
    "# Make plot\n",
    "plt.plot(x, 2*np.ones_like(y1))\n",
    "plt.plot(x, y2, label=r'$2y\\leq25-x$')\n",
    "plt.plot(x, y3, label=r'$4y\\geq 2x - 8$')\n",
    "plt.plot(x, y4, label=r'$y\\leq 2x-5$')\n",
    "plt.axis(\"scaled\")\n",
    "plt.grid(True)\n",
    "plt.xlim(0,16)\n",
    "plt.ylim(0,11)\n",
    "plt.legend(bbox_to_anchor=(1.05, 1), loc=2, borderaxespad=0.)\n",
    "plt.xlabel(r'$x$')\n",
    "plt.ylabel(r'$y$')\n",
    "plt.show()"
   ]
  },
  {
   "cell_type": "code",
   "execution_count": 66,
   "metadata": {},
   "outputs": [
    {
     "data": {
      "image/png": "[encoded data removed]",
      "text/plain": [
       "<Figure size 432x288 with 1 Axes>"
      ]
     },
     "metadata": {
      "needs_background": "light"
     },
     "output_type": "display_data"
    }
   ],
   "source": [
    "%matplotlib inline\n",
    "import numpy as np\n",
    "import matplotlib.pyplot as plt\n",
    "from sympy.solvers import solve\n",
    "from sympy import Symbol\n",
    "\n",
    "def f1(x):\n",
    "    return 4.0*x-2.0\n",
    "def f2(x):\n",
    "    return 0.5*x+2.0\n",
    "def f3(x):\n",
    "    return -0.3*x+7.0\n",
    "\n",
    "x = Symbol('x')\n",
    "x1, =  solve(f1(x)-f2(x))\n",
    "x2, =  solve(f1(x)-f3(x))\n",
    "x3, =  solve(f2(x)-f3(x))\n",
    "\n",
    "y1 = f1(x1)\n",
    "y2 = f1(x2)\n",
    "y3 = f2(x3)\n",
    "\n",
    "plt.plot(x1,f1(x1),'go',markersize=10)\n",
    "plt.plot(x2,f1(x2),'go',markersize=10)\n",
    "plt.plot(x3,f2(x3),'go',markersize=10)\n",
    "\n",
    "plt.fill([x1,x2,x3,x1],[y1,y2,y3,y1],'red',alpha=0.5)\n",
    "\n",
    "xr = np.linspace(0.5,7.5,100)\n",
    "y1r = f1(xr)\n",
    "y2r = f2(xr)\n",
    "y3r = f3(xr)\n",
    "\n",
    "plt.plot(xr,y1r,'k--')\n",
    "plt.plot(xr,y2r,'k--')\n",
    "plt.plot(xr,y3r,'k--')\n",
    "\n",
    "plt.axis('scaled')\n",
    "plt.grid(True)\n",
    "plt.xlim(0.5,7)\n",
    "plt.ylim(2,8)\n",
    "\n",
    "plt.show()"
   ]
  },
  {
   "cell_type": "code",
   "execution_count": 67,
   "metadata": {
    "autoscroll": false,
    "ein.hycell": false,
    "ein.tags": "worksheet-1",
    "slideshow": {
     "slide_type": "-"
    }
   },
   "outputs": [
    {
     "data": {
      "text/latex": [
       "\\begin{align}\n",
       "c = \\sqrt{a^2 + b^2} \\\\\n",
       "\\nabla \\times \\vec{\\mathbf{B}} -\\, \\frac1c\\, \\frac{\\partial\\vec{\\mathbf{E}}}{\\partial t} & = \\frac{4\\pi}{c}\\vec{\\mathbf{j}} \\\\\n",
       "\\nabla \\cdot \\vec{\\mathbf{E}} & = 4 \\pi \\rho \\\\\n",
       "\\nabla \\times \\vec{\\mathbf{E}}\\, +\\, \\frac1c\\, \\frac{\\partial\\vec{\\mathbf{B}}}{\\partial t} & = \\vec{\\mathbf{0}} \\\\\n",
       "\\nabla \\cdot \\vec{\\mathbf{B}} & = 0\n",
       "\\end{align}\n"
      ],
      "text/plain": [
       "<IPython.core.display.Latex object>"
      ]
     },
     "metadata": {},
     "output_type": "display_data"
    }
   ],
   "source": [
    "%%latex\n",
    "\\begin{align}\n",
    "c = \\sqrt{a^2 + b^2} \\\\\n",
    "\\nabla \\times \\vec{\\mathbf{B}} -\\, \\frac1c\\, \\frac{\\partial\\vec{\\mathbf{E}}}{\\partial t} & = \\frac{4\\pi}{c}\\vec{\\mathbf{j}} \\\\\n",
    "\\nabla \\cdot \\vec{\\mathbf{E}} & = 4 \\pi \\rho \\\\\n",
    "\\nabla \\times \\vec{\\mathbf{E}}\\, +\\, \\frac1c\\, \\frac{\\partial\\vec{\\mathbf{B}}}{\\partial t} & = \\vec{\\mathbf{0}} \\\\\n",
    "\\nabla \\cdot \\vec{\\mathbf{B}} & = 0\n",
    "\\end{align}"
   ]
  }
 ],
 "metadata": {
  "authors": [
   {
    "name": "Ivan Setiawan"
   },
   {
    "name": "Harry Wangidjaja"
   }
  ],
  "date": "2020/02/08",
  "kernelspec": {
   "display_name": "Python 3",
   "language": "python",
   "name": "python3"
  },
  "language_info": {
   "codemirror_mode": {
    "name": "ipython",
    "version": 3
   },
   "file_extension": ".py",
   "mimetype": "text/x-python",
   "name": "python",
   "nbconvert_exporter": "python",
   "pygments_lexer": "ipython3",
   "version": "3.7.6"
  },
  "name": "20200208_prob_sin2x.ipynb",
  "title": "What is the maximum value of P(a)?"
 },
 "nbformat": 4,
 "nbformat_minor": 2
}
